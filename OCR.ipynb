{
  "nbformat": 4,
  "nbformat_minor": 0,
  "metadata": {
    "colab": {
      "name": "TrantorHiring.ipynb",
      "provenance": [],
      "collapsed_sections": [],
      "toc_visible": true
    },
    "kernelspec": {
      "name": "python3",
      "display_name": "Python 3"
    }
  },
  "cells": [
    {
      "cell_type": "markdown",
      "metadata": {
        "id": "ad_0-8veUfPY"
      },
      "source": [
        "# **OCR using Convolutional Neural Networks.**\n",
        " **On [MNIST](http://yann.lecun.com/exdb/mnist/) dataset.**"
      ]
    },
    {
      "cell_type": "markdown",
      "metadata": {
        "id": "n_9a56sNI2eB"
      },
      "source": [
        "**Installing required libraries. In our case TensorFlow.**"
      ]
    },
    {
      "cell_type": "code",
      "metadata": {
        "id": "ajWz9moM4j1I",
        "outputId": "51af2c92-5138-4e67-bde9-702a54515bb9",
        "colab": {
          "base_uri": "https://localhost:8080/",
          "height": 666
        }
      },
      "source": [
        "!pip install tensorflow"
      ],
      "execution_count": 10,
      "outputs": [
        {
          "output_type": "stream",
          "text": [
            "Requirement already satisfied: tensorflow in /usr/local/lib/python3.6/dist-packages (2.3.0)\n",
            "Requirement already satisfied: numpy<1.19.0,>=1.16.0 in /usr/local/lib/python3.6/dist-packages (from tensorflow) (1.18.5)\n",
            "Requirement already satisfied: tensorflow-estimator<2.4.0,>=2.3.0 in /usr/local/lib/python3.6/dist-packages (from tensorflow) (2.3.0)\n",
            "Requirement already satisfied: protobuf>=3.9.2 in /usr/local/lib/python3.6/dist-packages (from tensorflow) (3.12.4)\n",
            "Requirement already satisfied: gast==0.3.3 in /usr/local/lib/python3.6/dist-packages (from tensorflow) (0.3.3)\n",
            "Requirement already satisfied: grpcio>=1.8.6 in /usr/local/lib/python3.6/dist-packages (from tensorflow) (1.32.0)\n",
            "Requirement already satisfied: google-pasta>=0.1.8 in /usr/local/lib/python3.6/dist-packages (from tensorflow) (0.2.0)\n",
            "Requirement already satisfied: h5py<2.11.0,>=2.10.0 in /usr/local/lib/python3.6/dist-packages (from tensorflow) (2.10.0)\n",
            "Requirement already satisfied: opt-einsum>=2.3.2 in /usr/local/lib/python3.6/dist-packages (from tensorflow) (3.3.0)\n",
            "Requirement already satisfied: tensorboard<3,>=2.3.0 in /usr/local/lib/python3.6/dist-packages (from tensorflow) (2.3.0)\n",
            "Requirement already satisfied: wheel>=0.26 in /usr/local/lib/python3.6/dist-packages (from tensorflow) (0.35.1)\n",
            "Requirement already satisfied: astunparse==1.6.3 in /usr/local/lib/python3.6/dist-packages (from tensorflow) (1.6.3)\n",
            "Requirement already satisfied: six>=1.12.0 in /usr/local/lib/python3.6/dist-packages (from tensorflow) (1.15.0)\n",
            "Requirement already satisfied: scipy==1.4.1 in /usr/local/lib/python3.6/dist-packages (from tensorflow) (1.4.1)\n",
            "Requirement already satisfied: absl-py>=0.7.0 in /usr/local/lib/python3.6/dist-packages (from tensorflow) (0.10.0)\n",
            "Requirement already satisfied: termcolor>=1.1.0 in /usr/local/lib/python3.6/dist-packages (from tensorflow) (1.1.0)\n",
            "Requirement already satisfied: wrapt>=1.11.1 in /usr/local/lib/python3.6/dist-packages (from tensorflow) (1.12.1)\n",
            "Requirement already satisfied: keras-preprocessing<1.2,>=1.1.1 in /usr/local/lib/python3.6/dist-packages (from tensorflow) (1.1.2)\n",
            "Requirement already satisfied: setuptools in /usr/local/lib/python3.6/dist-packages (from protobuf>=3.9.2->tensorflow) (50.3.0)\n",
            "Requirement already satisfied: google-auth-oauthlib<0.5,>=0.4.1 in /usr/local/lib/python3.6/dist-packages (from tensorboard<3,>=2.3.0->tensorflow) (0.4.1)\n",
            "Requirement already satisfied: google-auth<2,>=1.6.3 in /usr/local/lib/python3.6/dist-packages (from tensorboard<3,>=2.3.0->tensorflow) (1.17.2)\n",
            "Requirement already satisfied: requests<3,>=2.21.0 in /usr/local/lib/python3.6/dist-packages (from tensorboard<3,>=2.3.0->tensorflow) (2.23.0)\n",
            "Requirement already satisfied: tensorboard-plugin-wit>=1.6.0 in /usr/local/lib/python3.6/dist-packages (from tensorboard<3,>=2.3.0->tensorflow) (1.7.0)\n",
            "Requirement already satisfied: werkzeug>=0.11.15 in /usr/local/lib/python3.6/dist-packages (from tensorboard<3,>=2.3.0->tensorflow) (1.0.1)\n",
            "Requirement already satisfied: markdown>=2.6.8 in /usr/local/lib/python3.6/dist-packages (from tensorboard<3,>=2.3.0->tensorflow) (3.2.2)\n",
            "Requirement already satisfied: requests-oauthlib>=0.7.0 in /usr/local/lib/python3.6/dist-packages (from google-auth-oauthlib<0.5,>=0.4.1->tensorboard<3,>=2.3.0->tensorflow) (1.3.0)\n",
            "Requirement already satisfied: rsa<5,>=3.1.4; python_version >= \"3\" in /usr/local/lib/python3.6/dist-packages (from google-auth<2,>=1.6.3->tensorboard<3,>=2.3.0->tensorflow) (4.6)\n",
            "Requirement already satisfied: cachetools<5.0,>=2.0.0 in /usr/local/lib/python3.6/dist-packages (from google-auth<2,>=1.6.3->tensorboard<3,>=2.3.0->tensorflow) (4.1.1)\n",
            "Requirement already satisfied: pyasn1-modules>=0.2.1 in /usr/local/lib/python3.6/dist-packages (from google-auth<2,>=1.6.3->tensorboard<3,>=2.3.0->tensorflow) (0.2.8)\n",
            "Requirement already satisfied: certifi>=2017.4.17 in /usr/local/lib/python3.6/dist-packages (from requests<3,>=2.21.0->tensorboard<3,>=2.3.0->tensorflow) (2020.6.20)\n",
            "Requirement already satisfied: chardet<4,>=3.0.2 in /usr/local/lib/python3.6/dist-packages (from requests<3,>=2.21.0->tensorboard<3,>=2.3.0->tensorflow) (3.0.4)\n",
            "Requirement already satisfied: urllib3!=1.25.0,!=1.25.1,<1.26,>=1.21.1 in /usr/local/lib/python3.6/dist-packages (from requests<3,>=2.21.0->tensorboard<3,>=2.3.0->tensorflow) (1.24.3)\n",
            "Requirement already satisfied: idna<3,>=2.5 in /usr/local/lib/python3.6/dist-packages (from requests<3,>=2.21.0->tensorboard<3,>=2.3.0->tensorflow) (2.10)\n",
            "Requirement already satisfied: importlib-metadata; python_version < \"3.8\" in /usr/local/lib/python3.6/dist-packages (from markdown>=2.6.8->tensorboard<3,>=2.3.0->tensorflow) (2.0.0)\n",
            "Requirement already satisfied: oauthlib>=3.0.0 in /usr/local/lib/python3.6/dist-packages (from requests-oauthlib>=0.7.0->google-auth-oauthlib<0.5,>=0.4.1->tensorboard<3,>=2.3.0->tensorflow) (3.1.0)\n",
            "Requirement already satisfied: pyasn1>=0.1.3 in /usr/local/lib/python3.6/dist-packages (from rsa<5,>=3.1.4; python_version >= \"3\"->google-auth<2,>=1.6.3->tensorboard<3,>=2.3.0->tensorflow) (0.4.8)\n",
            "Requirement already satisfied: zipp>=0.5 in /usr/local/lib/python3.6/dist-packages (from importlib-metadata; python_version < \"3.8\"->markdown>=2.6.8->tensorboard<3,>=2.3.0->tensorflow) (3.2.0)\n"
          ],
          "name": "stdout"
        }
      ]
    },
    {
      "cell_type": "markdown",
      "metadata": {
        "id": "A8u8Jyo0I_ui"
      },
      "source": [
        "### **Knowing the shape and exploring the dataset.**\n",
        "**Importing [MNIST](http://yann.lecun.com/exdb/mnist/) dataset, from TensorFlow Keras.**\n",
        "\n"
      ]
    },
    {
      "cell_type": "code",
      "metadata": {
        "id": "eBQmytv1KPA6",
        "outputId": "8ab63175-620c-4591-c3c1-5ca98caba566",
        "colab": {
          "base_uri": "https://localhost:8080/",
          "height": 68
        }
      },
      "source": [
        "import tensorflow as tf\n",
        "import pandas as pd\n",
        "import numpy as np\n",
        "from matplotlib import pyplot as plt\n",
        "from tensorflow.keras.datasets import mnist\n",
        "(X_train, y_train), (X_test, y_test) = mnist.load_data()\n",
        "print('Shape of the dataset.')\n",
        "print('Train: X=%s, y=%s' % (X_train.shape, y_train.shape))\n",
        "print('Test: X=%s, y=%s' % (X_test.shape, y_test.shape))"
      ],
      "execution_count": 11,
      "outputs": [
        {
          "output_type": "stream",
          "text": [
            "Shape of the dataset.\n",
            "Train: X=(60000, 28, 28), y=(60000,)\n",
            "Test: X=(10000, 28, 28), y=(10000,)\n"
          ],
          "name": "stdout"
        }
      ]
    },
    {
      "cell_type": "code",
      "metadata": {
        "id": "LgOcyyYTuVNJ",
        "outputId": "629934e8-02f2-4896-f8f8-3f2bd8ee3c68",
        "colab": {
          "base_uri": "https://localhost:8080/",
          "height": 204
        }
      },
      "source": [
        "train_labels_count = np.unique(y_train, return_counts=True)\n",
        "test_labels_count = np.unique(y_test, return_counts=True)\n",
        "dataframe_labels = pd.DataFrame({'Label':train_labels_count[0], 'Count Train':train_labels_count[1],'Count Test':test_labels_count[1]})\n",
        "print(dataframe_labels.to_string(index=False))"
      ],
      "execution_count": 12,
      "outputs": [
        {
          "output_type": "stream",
          "text": [
            " Label  Count Train  Count Test\n",
            "     0         5923         980\n",
            "     1         6742        1135\n",
            "     2         5958        1032\n",
            "     3         6131        1010\n",
            "     4         5842         982\n",
            "     5         5421         892\n",
            "     6         5918         958\n",
            "     7         6265        1028\n",
            "     8         5851         974\n",
            "     9         5949        1009\n"
          ],
          "name": "stdout"
        }
      ]
    },
    {
      "cell_type": "code",
      "metadata": {
        "id": "m7klDpiVuYOG",
        "outputId": "e71b9b60-9bf5-45d6-a0e8-5d0367678cb4",
        "colab": {
          "base_uri": "https://localhost:8080/",
          "height": 268
        }
      },
      "source": [
        "# 9 sample images of the dataset\n",
        "for i in range(9):\n",
        "\tplt.subplot(331 + i)\n",
        "\tplt.imshow(X_train[i], cmap=plt.get_cmap('gray'))\n",
        "plt.show()"
      ],
      "execution_count": 13,
      "outputs": [
        {
          "output_type": "display_data",
          "data": {
            "image/png": "[encoded data removed]",
            "text/plain": [
              "<Figure size 432x288 with 9 Axes>"
            ]
          },
          "metadata": {
            "tags": [],
            "needs_background": "light"
          }
        }
      ]
    },
    {
      "cell_type": "code",
      "metadata": {
        "id": "JlINRO-_ucPj",
        "outputId": "bfce1dbb-e8e0-46e3-ad57-6d642cb3d14c",
        "colab": {
          "base_uri": "https://localhost:8080/",
          "height": 85
        }
      },
      "source": [
        "print('Train dataset ranges from ', X_train.min(),' to ', X_train.max(),'.')\n",
        "print('Train dataset mean value:', round(X_train.mean(),3))\n",
        "print('Test dataset ranges from ', X_test.min(),' to ', X_test.max(),'.')\n",
        "print('Test dataset mean value: ', round(X_test.mean(),3))"
      ],
      "execution_count": 14,
      "outputs": [
        {
          "output_type": "stream",
          "text": [
            "Train dataset ranges from  0  to  255 .\n",
            "Train dataset mean value: 33.318\n",
            "Test dataset ranges from  0  to  255 .\n",
            "Test dataset mean value:  33.791\n"
          ],
          "name": "stdout"
        }
      ]
    },
    {
      "cell_type": "markdown",
      "metadata": {
        "id": "uCcGb_J1NcCG"
      },
      "source": [
        "### **Reshaping and Normalizing the dataset**\n",
        "\n",
        "Reshaping the array to 4-dims so that it can work with the Keras API.\n",
        "\n",
        "Rescale pixel values from the range of 0-255 to the range 0-1 preferred for neural network models."
      ]
    },
    {
      "cell_type": "code",
      "metadata": {
        "id": "Dv7aCIiiOKZa",
        "outputId": "6c23d932-e3eb-4015-83e8-85252abc737e",
        "colab": {
          "base_uri": "https://localhost:8080/",
          "height": 85
        }
      },
      "source": [
        "# Reshaping\n",
        "X_train = X_train.reshape(X_train.shape[0], 28, 28, 1)\n",
        "X_test = X_test.reshape(X_test.shape[0], 28, 28, 1)\n",
        "\n",
        "X_train = X_train.astype('float32')\n",
        "X_test = X_test.astype('float32')\n",
        "\n",
        "# Normalize\n",
        "X_train /= 255.0\n",
        "X_test /= 255.0\n",
        "print('Train dataset ranges from ', X_train.min(),' to ', X_train.max(),'.')\n",
        "print('Train dataset mean value:', round(X_train.mean(),3))\n",
        "print('Test dataset ranges from ', X_test.min(),' to ', X_test.max(),'.')\n",
        "print('Test dataset mean value: ', round(X_test.mean(),3))\n"
      ],
      "execution_count": 15,
      "outputs": [
        {
          "output_type": "stream",
          "text": [
            "Train dataset ranges from  0.0  to  1.0 .\n",
            "Train dataset mean value: 0.131\n",
            "Test dataset ranges from  0.0  to  1.0 .\n",
            "Test dataset mean value:  0.133\n"
          ],
          "name": "stdout"
        }
      ]
    },
    {
      "cell_type": "markdown",
      "metadata": {
        "id": "sWLW4y9gPrFX"
      },
      "source": [
        "### **Keras imports for building our convolutional neural network (CNN) model.**\n"
      ]
    },
    {
      "cell_type": "code",
      "metadata": {
        "id": "7zEzW8mQ-cW6",
        "outputId": "3ffe424a-7c41-44ca-dd53-2d41bea23fa7",
        "colab": {
          "base_uri": "https://localhost:8080/",
          "height": 238
        }
      },
      "source": [
        "from tensorflow import keras\n",
        "from keras.models import Sequential\n",
        "from keras.layers import Dense, Dropout, Conv2D, MaxPool2D, Flatten\n",
        "from keras.utils import np_utils\n",
        "from sklearn.metrics import accuracy_score\n",
        "\n",
        "# one-hot encoding using numpy-related utilities of tensorflow's keras\n",
        "n_classes = 10\n",
        "print(\"Shape before one-hot encoding: \", y_train.shape)\n",
        "Y_train = np_utils.to_categorical(y_train, n_classes)\n",
        "Y_test = np_utils.to_categorical(y_test, n_classes)\n",
        "print(\"Shape after one-hot encoding: \", Y_train.shape)\n",
        "\n",
        "model = Sequential()\n",
        "# convolutional layer\n",
        "model.add(Conv2D(25, kernel_size=(3,3), strides=(1,1), padding='valid', activation='relu', input_shape=(28,28,1)))\n",
        "model.add(MaxPool2D(pool_size=(1,1)))\n",
        "# flatten output of conv\n",
        "model.add(Flatten())\n",
        "# hidden layer\n",
        "model.add(Dense(100, activation='relu'))\n",
        "# output layer\n",
        "model.add(Dense(10, activation='softmax'))\n",
        "\n",
        "# Compiling the sequential model\n",
        "# A loss function is one of the two mandatory arguments required for compiling a Keras model\n",
        "model.compile(loss='categorical_crossentropy', metrics=['accuracy'], optimizer='adam')\n",
        "\n",
        "# training the model for 10 epochs\n",
        "model.fit(X_train, Y_train, batch_size=128, epochs=5, validation_data=(X_test, Y_test))"
      ],
      "execution_count": 16,
      "outputs": [
        {
          "output_type": "stream",
          "text": [
            "Shape before one-hot encoding:  (60000,)\n",
            "Shape after one-hot encoding:  (60000, 10)\n",
            "Epoch 1/5\n",
            "469/469 [==============================] - 41s 87ms/step - loss: 0.1749 - accuracy: 0.9502 - val_loss: 0.0692 - val_accuracy: 0.9784\n",
            "Epoch 2/5\n",
            "469/469 [==============================] - 42s 89ms/step - loss: 0.0569 - accuracy: 0.9830 - val_loss: 0.0606 - val_accuracy: 0.9800\n",
            "Epoch 3/5\n",
            "469/469 [==============================] - 41s 87ms/step - loss: 0.0342 - accuracy: 0.9897 - val_loss: 0.0615 - val_accuracy: 0.9807\n",
            "Epoch 4/5\n",
            "469/469 [==============================] - 42s 90ms/step - loss: 0.0214 - accuracy: 0.9936 - val_loss: 0.0531 - val_accuracy: 0.9835\n",
            "Epoch 5/5\n",
            "469/469 [==============================] - 41s 88ms/step - loss: 0.0119 - accuracy: 0.9967 - val_loss: 0.0521 - val_accuracy: 0.9847\n"
          ],
          "name": "stdout"
        },
        {
          "output_type": "execute_result",
          "data": {
            "text/plain": [
              "<tensorflow.python.keras.callbacks.History at 0x7f3c80a9acc0>"
            ]
          },
          "metadata": {
            "tags": []
          },
          "execution_count": 16
        }
      ]
    },
    {
      "cell_type": "markdown",
      "metadata": {
        "id": "1_cvlwHDnntL"
      },
      "source": [
        "**Observations:**\n",
        "\n",
        "\n",
        "*   The CNN model is able to get 98%+ accuracy with just a single convolution layer.\n",
        "*   We can also add more Conv2D layers, and also play around with the hyperparameters of the CNN model to increase the accuracy further more.\n"
      ]
    },
    {
      "cell_type": "markdown",
      "metadata": {
        "id": "W8gaqcqMsMnX"
      },
      "source": [
        "### **Making individual predictions.**"
      ]
    },
    {
      "cell_type": "code",
      "metadata": {
        "id": "FR9vImJIr3wI",
        "outputId": "9a4ce63b-9ba3-4f7d-ccc9-d789c70633b4",
        "colab": {
          "base_uri": "https://localhost:8080/",
          "height": 312
        }
      },
      "source": [
        "import random as r\n",
        "print('No. of values in test dataset: ',X_test.shape[0])\n",
        "for i in range (9):\n",
        "  image_index=r.randint(0,10000)\n",
        "  plt.subplot(331 + i)\n",
        "  plt.imshow(X_test[image_index].reshape(28, 28),cmap='Greys')\n",
        "  pred = model.predict(X_test[image_index].reshape(1, 28, 28, 1))\n",
        "  if i<3:  \n",
        "    plt.title('Label: ' + str(pred.argmax()))\n",
        "  elif i>=3 and i<6:\n",
        "    plt.ylabel('Label: ' + str(pred.argmax()))\n",
        "  else:\n",
        "    plt.xlabel('Label: ' + str(pred.argmax()))\n",
        "plt.show()"
      ],
      "execution_count": 17,
      "outputs": [
        {
          "output_type": "stream",
          "text": [
            "No. of values in test dataset:  10000\n"
          ],
          "name": "stdout"
        },
        {
          "output_type": "display_data",
          "data": {
            "image/png": "[encoded data removed]",
            "text/plain": [
              "<Figure size 432x288 with 9 Axes>"
            ]
          },
          "metadata": {
            "tags": [],
            "needs_background": "light"
          }
        }
      ]
    },
    {
      "cell_type": "markdown",
      "metadata": {
        "id": "SZfgXxUswczk"
      },
      "source": [
        "This is the individual character prediction from train dataset."
      ]
    },
    {
      "cell_type": "markdown",
      "metadata": {
        "id": "3j_M2SZZCQIE"
      },
      "source": [
        "### **Evaluating Kearas model.**"
      ]
    },
    {
      "cell_type": "code",
      "metadata": {
        "id": "iRJGY7JECPcY",
        "outputId": "3395cb31-3a54-42d8-c733-1658a69df938",
        "colab": {
          "base_uri": "https://localhost:8080/",
          "height": 102
        }
      },
      "source": [
        "import time\n",
        "expected_label=Y_test[2345].argmax()\n",
        "digit_image = X_test[2345].reshape(1, 28, 28, 1)\n",
        "# repeat few times to take the average execution time\n",
        "loop_count = 10\n",
        "\n",
        "start_time = time.time()\n",
        "for i in range(loop_count):\n",
        "    prediction = model.predict(digit_image)\n",
        "print(\"Keras inferences with %s second in average\" %((time.time() - start_time) / loop_count))\n",
        "\n",
        "print(prediction)\n",
        "predicted_label = prediction.argmax()\n",
        "print('Predicted value:', predicted_label)\n",
        "if (expected_label == predicted_label):\n",
        "  print('Correct prediction !')\n",
        "else:\n",
        "  print('Wrong prediction !')\n",
        "#saving keras model\n",
        "model.save('./mnist-model.h5')\n"
      ],
      "execution_count": 46,
      "outputs": [
        {
          "output_type": "stream",
          "text": [
            "Keras inferences with 0.05274093151092529 second in average\n",
            "[[7.6969547e-10 6.5950162e-10 2.2239202e-08 2.7859372e-05 2.2992467e-06\n",
            "  3.4237412e-06 2.6487391e-12 1.2932930e-04 5.7199271e-05 9.9977988e-01]]\n",
            "Predicted value: 9\n",
            "Correct prediction !\n"
          ],
          "name": "stdout"
        }
      ]
    },
    {
      "cell_type": "markdown",
      "metadata": {
        "id": "2LRv9RFFvmyn"
      },
      "source": [
        "### **Conversion from Keras to ONNX.**\n",
        "Importing ONNX packages from source."
      ]
    },
    {
      "cell_type": "code",
      "metadata": {
        "id": "PA7YGkjCvy28",
        "outputId": "df894526-eab9-4bfc-ae47-88e267265c2a",
        "colab": {
          "base_uri": "https://localhost:8080/",
          "height": 119
        }
      },
      "source": [
        "!pip install --quiet -U onnxruntime\n",
        "!pip install --quiet -U git+https://github.com/microsoft/onnxconverter-common\n",
        "!pip install --quiet -U git+https://github.com/onnx/keras-onnx"
      ],
      "execution_count": 19,
      "outputs": [
        {
          "output_type": "stream",
          "text": [
            "\u001b[K     |████████████████████████████████| 3.8MB 2.8MB/s \n",
            "\u001b[K     |████████████████████████████████| 7.4MB 2.6MB/s \n",
            "\u001b[?25h  Building wheel for onnxconverter-common (setup.py) ... \u001b[?25l\u001b[?25hdone\n",
            "\u001b[K     |████████████████████████████████| 81kB 2.1MB/s \n",
            "\u001b[?25h  Building wheel for keras2onnx (setup.py) ... \u001b[?25l\u001b[?25hdone\n",
            "  Building wheel for fire (setup.py) ... \u001b[?25l\u001b[?25hdone\n"
          ],
          "name": "stdout"
        }
      ]
    },
    {
      "cell_type": "code",
      "metadata": {
        "id": "8q9zbQvSwOUA",
        "outputId": "9ca5cc89-4fa9-4af6-d0d9-e97d7c303f00",
        "colab": {
          "base_uri": "https://localhost:8080/",
          "height": 986
        }
      },
      "source": [
        "import keras2onnx\n",
        "print(\"keras2onnx version is \"+keras2onnx.__version__)\n",
        "# convert to onnx model\n",
        "onnx_model = keras2onnx.convert_keras(model, 'mnist-onnx', debug_mode=1)\n",
        "output_model_path = \"./mnist-model.onnx\"\n",
        "# and save the model in ONNX format\n",
        "keras2onnx.save_model(onnx_model, output_model_path)"
      ],
      "execution_count": 20,
      "outputs": [
        {
          "output_type": "stream",
          "text": [
            "tf executing eager_mode: True\n",
            "tf.keras model eager_mode: False\n",
            "Processing a keras layer - (dense_3: <class 'tensorflow.python.keras.layers.core.Dense'>)\n",
            "\toutput: dense_3/Softmax:0\n",
            "\tinput : dense_2/Relu:0\n",
            "Processing a keras layer - (dense_2: <class 'tensorflow.python.keras.layers.core.Dense'>)\n",
            "\toutput: dense_2/Relu:0\n",
            "\tinput : flatten_1/Reshape:0\n",
            "Processing a keras layer - (flatten_1: <class 'tensorflow.python.keras.layers.core.Flatten'>)\n",
            "\toutput: flatten_1/Reshape:0\n",
            "\tinput : max_pooling2d_1/MaxPool:0\n",
            "Processing a keras layer - (max_pooling2d_1: <class 'tensorflow.python.keras.layers.pooling.MaxPooling2D'>)\n",
            "\toutput: max_pooling2d_1/MaxPool:0\n",
            "\tinput : conv2d_1/Relu:0\n",
            "Processing a keras layer - (conv2d_1: <class 'tensorflow.python.keras.layers.convolutional.Conv2D'>)\n",
            "\toutput: conv2d_1/Relu:0\n",
            "\tinput : conv2d_1_input:0\n",
            "var: conv2d_1_input\n",
            "var: conv2d_1_input:0\n",
            "var: conv2d_1_input:01\n",
            "var: conv2d_1/Relu:0\n",
            "var: max_pooling2d_1/MaxPool:0\n",
            "var: flatten_1/Reshape:0\n",
            "var: dense_2/Relu:0\n",
            "var: dense_3/Softmax:01\n",
            "var: dense_3/Softmax:0\n",
            "var: dense_3\n",
            "Converting the operator (Identity): Identity\n",
            "Converting the operator (Identity1): Identity\n",
            "Converting the operator (Identity2): Identity\n",
            "Converting the operator (dense_3): <class 'tensorflow.python.keras.layers.core.Dense'>\n",
            "Converting the operator (dense_2): <class 'tensorflow.python.keras.layers.core.Dense'>\n"
          ],
          "name": "stderr"
        },
        {
          "output_type": "stream",
          "text": [
            "keras2onnx version is 1.7.1\n",
            "Model: \"sequential_1\"\n",
            "_________________________________________________________________\n",
            "Layer (type)                 Output Shape              Param #   \n",
            "=================================================================\n",
            "conv2d_1 (Conv2D)            (None, 26, 26, 25)        250       \n",
            "_________________________________________________________________\n",
            "max_pooling2d_1 (MaxPooling2 (None, 26, 26, 25)        0         \n",
            "_________________________________________________________________\n",
            "flatten_1 (Flatten)          (None, 16900)             0         \n",
            "_________________________________________________________________\n",
            "dense_2 (Dense)              (None, 100)               1690100   \n",
            "_________________________________________________________________\n",
            "dense_3 (Dense)              (None, 10)                1010      \n",
            "=================================================================\n",
            "Total params: 1,691,360\n",
            "Trainable params: 1,691,360\n",
            "Non-trainable params: 0\n",
            "_________________________________________________________________\n",
            "None\n"
          ],
          "name": "stdout"
        },
        {
          "output_type": "stream",
          "text": [
            "Converting the operator (flatten_1): <class 'tensorflow.python.keras.layers.core.Flatten'>\n",
            "Converting the operator (flatten_1/Const): Const\n",
            "Converting the operator (max_pooling2d_1): <class 'tensorflow.python.keras.layers.pooling.MaxPooling2D'>\n",
            "Converting the operator (conv2d_1): <class 'tensorflow.python.keras.layers.convolutional.Conv2D'>\n",
            "Converting the operator (Identity3): Identity\n"
          ],
          "name": "stderr"
        }
      ]
    },
    {
      "cell_type": "markdown",
      "metadata": {
        "id": "CxiaPMqKwfEv"
      },
      "source": [
        "### **Evaluating ONNX model perfomance.**\n",
        "Inference"
      ]
    },
    {
      "cell_type": "code",
      "metadata": {
        "id": "jB_wChX4wd1C"
      },
      "source": [
        "import onnxruntime\n",
        "\n",
        "sess_options = onnxruntime.SessionOptions()\n",
        "sess = onnxruntime.InferenceSession(output_model_path, sess_options)\n",
        "data = [digit_image.astype(np.float32)]\n",
        "input_names = sess.get_inputs()\n",
        "feed = dict([(input.name, data[n]) for n, input in enumerate(sess.get_inputs())])"
      ],
      "execution_count": 44,
      "outputs": []
    },
    {
      "cell_type": "code",
      "metadata": {
        "id": "4LD2S3NgxpPb",
        "outputId": "c6f0acbd-5b1e-4ceb-9a55-9d3c3ff124eb",
        "colab": {
          "base_uri": "https://localhost:8080/",
          "height": 85
        }
      },
      "source": [
        "start_time = time.time()\n",
        "for i in range(loop_count):\n",
        "    onnx_predicted_label = sess.run(None, feed)[0].argmax()\n",
        "print(\"ONNX inferences with %s second in average\" %((time.time() - start_time) / loop_count))\n",
        "\n",
        "print('ONNX predicted value:', onnx_predicted_label)\n",
        "if (expected_label == onnx_predicted_label):\n",
        "  print('Correct prediction !')\n",
        "else:\n",
        "  print('Wrong prediction !')\n",
        "\n",
        "if (predicted_label == onnx_predicted_label):\n",
        "  print(\"The ONNX's and keras' prediction are matching !\")\n",
        "else:\n",
        "  print(\"The ONNX's and keras' prediction does not match !\")"
      ],
      "execution_count": 45,
      "outputs": [
        {
          "output_type": "stream",
          "text": [
            "ONNX inferences with 0.002775883674621582 second in average\n",
            "ONNX predicted value: 9\n",
            "Correct prediction !\n",
            "The ONNX's and keras' prediction are matching !\n"
          ],
          "name": "stdout"
        }
      ]
    },
    {
      "cell_type": "markdown",
      "metadata": {
        "id": "UZWe-vYO3X6Q"
      },
      "source": [
        "*References:*\n",
        "\n",
        "---\n",
        "\n",
        "\n",
        "* [Medium.com/CNN](https://medium.com/@RaghavPrabhu/understanding-of-convolutional-neural-network-cnn-deep-learning-99760835f148)\n",
        "* [TowardsDataScience.com/CNN](https://towardsdatascience.com/a-comprehensive-guide-to-convolutional-neural-networks-the-eli5-way-3bd2b1164a53) \n",
        "* [Machine Learning & Deep Learning Fundamentals.](https://www.youtube.com/playlist?list=PLZbbT5o_s2xq7LwI2y8_QtvuXZedL6tQU)"
      ]
    }
  ]
}